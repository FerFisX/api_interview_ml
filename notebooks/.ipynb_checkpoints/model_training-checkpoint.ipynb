{
 "cells": [
  {
   "cell_type": "markdown",
   "id": "9cf280f4-d1d6-4cec-8db7-6248e99ca6d9",
   "metadata": {},
   "source": [
    "### Modelo a usar XGBoost"
   ]
  },
  {
   "cell_type": "code",
   "execution_count": null,
   "id": "05e546f5-7884-42e2-808b-af1c90c4bec4",
   "metadata": {},
   "outputs": [],
   "source": [
    "!pip install xgboost"
   ]
  },
  {
   "cell_type": "code",
   "execution_count": 1,
   "id": "19f7a78c-7eb6-4afc-a2a1-72915dcb0461",
   "metadata": {},
   "outputs": [],
   "source": [
    "### Para la prueba utilizaremos el modelo de XGBosst , consideranto que estamos usando un modelo que depende de varios factores\n",
    "### incluyendo el tiempo"
   ]
  },
  {
   "cell_type": "code",
   "execution_count": 1,
   "id": "319c9262-8dca-4d2b-b8e6-ccf061d8822f",
   "metadata": {},
   "outputs": [
    {
     "name": "stdout",
     "output_type": "stream",
     "text": [
      "Current working directory: C:\\Users\\FerFisX\\Desktop\\prueba_Adrian\n"
     ]
    }
   ],
   "source": [
    "import os\n",
    "os.chdir(\"..\")  # No reconoce la direccion local , debemos moverlo al directorio actual para que reconozca los archivos \n",
    "print(\"Current working directory:\", os.getcwd())"
   ]
  },
  {
   "cell_type": "code",
   "execution_count": 2,
   "id": "73a6a8fc-5bfb-470c-9699-ca4e62dcba88",
   "metadata": {},
   "outputs": [],
   "source": [
    "import joblib\n",
    "import xgboost as xgb\n",
    "from sklearn.metrics import mean_squared_error, mean_absolute_error, r2_score\n",
    "from src.data_processing import load_and_preprocess_data\n",
    "import numpy as np"
   ]
  },
  {
   "cell_type": "markdown",
   "id": "c79ee121-75f6-4b4c-96ee-a625e68086ec",
   "metadata": {},
   "source": [
    "#### Cargado de datos y Procesamiento"
   ]
  },
  {
   "cell_type": "code",
   "execution_count": 3,
   "id": "eae1f733-e86e-4059-b38b-01168e587be7",
   "metadata": {},
   "outputs": [],
   "source": [
    "data_path = '../prueba_Adrian/notebooks/dataset_alquiler.csv'\n",
    "X_train, X_test, y_train, y_test, preprocessor = load_and_preprocess_data(data_path)"
   ]
  },
  {
   "cell_type": "markdown",
   "id": "4eda8e4d-7662-4862-b169-9c1ee95eba26",
   "metadata": {},
   "source": [
    "#### Inicializacion de hiperparametros para el modelo "
   ]
  },
  {
   "cell_type": "code",
   "execution_count": 4,
   "id": "7d151c39-f2b9-4a19-8631-b845a710fdd0",
   "metadata": {},
   "outputs": [
    {
     "name": "stdout",
     "output_type": "stream",
     "text": [
      "\n",
      "Entrenando el modelo XGBoost...\n",
      "Modelo XGBoost entrenado.\n"
     ]
    }
   ],
   "source": [
    "xgb_model = xgb.XGBRegressor(\n",
    "    objective='reg:squarederror', # Funcion objetivo para regresion\n",
    "    n_estimators=100,             # Numero de arboles de decision a construir\n",
    "    learning_rate=0.1,            # Tasa de aprendizaje\n",
    "    max_depth=5,                  # Profundidad maxima de cada arbol\n",
    "    random_state=42               # Para reproducibilidad\n",
    ")\n",
    "print(\"\\nEntrenando el modelo XGBoost...\")\n",
    "xgb_model.fit(X_train, y_train)\n",
    "print(\"Modelo XGBoost entrenado.\")\n",
    "##### Prediccion del modelo ######\n",
    "predictions = xgb_model.predict(X_test)"
   ]
  },
  {
   "cell_type": "markdown",
   "id": "95acc246-dcba-46e9-8f83-3d6dad9931a0",
   "metadata": {},
   "source": [
    "#### Evaluacion del Modelo..."
   ]
  },
  {
   "cell_type": "code",
   "execution_count": 6,
   "id": "06b69935-89b4-4508-a930-4a3d51dc6ed9",
   "metadata": {},
   "outputs": [
    {
     "name": "stdout",
     "output_type": "stream",
     "text": [
      "\n",
      "--- Evaluación del Modelo en el Conjunto de Prueba ---\n",
      "Error Cuadrático Medio (MSE): 5855.22\n",
      "Raíz del Error Cuadrático Medio (RMSE): 76.52\n",
      "Error Absoluto Medio (MAE): 50.95\n",
      "Coeficiente de Determinación (R^2): 0.88\n"
     ]
    }
   ],
   "source": [
    "mse = mean_squared_error(y_test, predictions)\n",
    "rmse = np.sqrt(mse)\n",
    "mae = mean_absolute_error(y_test, predictions)\n",
    "r2 = r2_score(y_test, predictions)\n",
    "\n",
    "print(\"\\n--- Evaluación del Modelo en el Conjunto de Prueba ---\")\n",
    "print(f\"Error Cuadrático Medio (MSE): {mse:.2f}\")\n",
    "print(f\"Raíz del Error Cuadrático Medio (RMSE): {rmse:.2f}\")\n",
    "print(f\"Error Absoluto Medio (MAE): {mae:.2f}\")\n",
    "print(f\"Coeficiente de Determinación (R^2): {r2:.2f}\")"
   ]
  },
  {
   "cell_type": "markdown",
   "id": "189e1216-f68d-46d6-927e-266a9c298e82",
   "metadata": {},
   "source": [
    "#### Guardado del modelo entrenado "
   ]
  },
  {
   "cell_type": "code",
   "execution_count": 9,
   "id": "dd8a0c82-b4f3-4d20-9019-1dfcb5d439f0",
   "metadata": {},
   "outputs": [
    {
     "name": "stdout",
     "output_type": "stream",
     "text": [
      "\n",
      "Modelo XGBoost guardado en: ../prueba_Adrian/models/xgboost_model.pkl\n"
     ]
    }
   ],
   "source": [
    "model_path = '../prueba_Adrian/models/xgboost_model.pkl'\n",
    "joblib.dump(xgb_model, model_path)\n",
    "print(f\"\\nModelo XGBoost guardado en: {model_path}\")"
   ]
  },
  {
   "cell_type": "code",
   "execution_count": null,
   "id": "d22e0278-2c6f-49c2-a5c5-4a2262a220b2",
   "metadata": {},
   "outputs": [],
   "source": []
  }
 ],
 "metadata": {
  "kernelspec": {
   "display_name": "Python 3 (ipykernel)",
   "language": "python",
   "name": "python3"
  },
  "language_info": {
   "codemirror_mode": {
    "name": "ipython",
    "version": 3
   },
   "file_extension": ".py",
   "mimetype": "text/x-python",
   "name": "python",
   "nbconvert_exporter": "python",
   "pygments_lexer": "ipython3",
   "version": "3.10.9"
  }
 },
 "nbformat": 4,
 "nbformat_minor": 5
}
