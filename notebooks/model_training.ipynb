{
 "cells": [
  {
   "cell_type": "markdown",
   "id": "9cf280f4-d1d6-4cec-8db7-6248e99ca6d9",
   "metadata": {},
   "source": [
    "### Modelo a usar XGBoost"
   ]
  },
  {
   "cell_type": "code",
   "execution_count": 2,
   "id": "19f7a78c-7eb6-4afc-a2a1-72915dcb0461",
   "metadata": {},
   "outputs": [],
   "source": [
    "### Para la prueba utilizaremos el modelo de XGBosst , consideranto que estamos usando un modelo que depende de varios factores\n",
    "### incluyendo el tiempo"
   ]
  },
  {
   "cell_type": "code",
   "execution_count": 16,
   "id": "73a6a8fc-5bfb-470c-9699-ca4e62dcba88",
   "metadata": {},
   "outputs": [],
   "source": [
    "import joblib\n",
    "import xgboost as xgb\n",
    "from sklearn.metrics import mean_squared_error, mean_absolute_error, r2_score\n",
    "from src.data_processing import load_and_preprocess_data\n",
    "import numpy as np"
   ]
  },
  {
   "cell_type": "code",
   "execution_count": 4,
   "id": "05e546f5-7884-42e2-808b-af1c90c4bec4",
   "metadata": {},
   "outputs": [
    {
     "name": "stdout",
     "output_type": "stream",
     "text": [
      "Collecting xgboost\n",
      "  Downloading xgboost-3.0.1-py3-none-win_amd64.whl (150.0 MB)\n",
      "     -------------------------------------- 150.0/150.0 MB 1.7 MB/s eta 0:00:00\n",
      "Requirement already satisfied: scipy in c:\\users\\ferfisx\\anaconda3\\lib\\site-packages (from xgboost) (1.10.0)\n",
      "Requirement already satisfied: numpy in c:\\users\\ferfisx\\appdata\\roaming\\python\\python310\\site-packages (from xgboost) (1.26.4)\n",
      "Installing collected packages: xgboost\n",
      "Successfully installed xgboost-3.0.1\n"
     ]
    }
   ],
   "source": [
    "!pip install xgboost"
   ]
  },
  {
   "cell_type": "markdown",
   "id": "c79ee121-75f6-4b4c-96ee-a625e68086ec",
   "metadata": {},
   "source": [
    "#### Cargado de datos y Procesamiento"
   ]
  },
  {
   "cell_type": "code",
   "execution_count": 19,
   "id": "eae1f733-e86e-4059-b38b-01168e587be7",
   "metadata": {},
   "outputs": [
    {
     "name": "stdout",
     "output_type": "stream",
     "text": [
      "Error: El archivo 'dataset_alquiler.csv' no fue encontrado.\n"
     ]
    },
    {
     "ename": "ValueError",
     "evalue": "not enough values to unpack (expected 5, got 4)",
     "output_type": "error",
     "traceback": [
      "\u001b[1;31m---------------------------------------------------------------------------\u001b[0m",
      "\u001b[1;31mValueError\u001b[0m                                Traceback (most recent call last)",
      "Cell \u001b[1;32mIn[19], line 2\u001b[0m\n\u001b[0;32m      1\u001b[0m data_path \u001b[38;5;241m=\u001b[39m \u001b[38;5;124m'\u001b[39m\u001b[38;5;124mdataset_alquiler.csv\u001b[39m\u001b[38;5;124m'\u001b[39m\n\u001b[1;32m----> 2\u001b[0m X_train, X_test, y_train, y_test, preprocessor \u001b[38;5;241m=\u001b[39m load_and_preprocess_data(data_path)\n",
      "\u001b[1;31mValueError\u001b[0m: not enough values to unpack (expected 5, got 4)"
     ]
    }
   ],
   "source": [
    "data_path = 'dataset_alquiler.csv'\n",
    "X_train, X_test, y_train, y_test, preprocessor = load_and_preprocess_data(data_path)"
   ]
  },
  {
   "cell_type": "markdown",
   "id": "4eda8e4d-7662-4862-b169-9c1ee95eba26",
   "metadata": {},
   "source": [
    "#### Inicializacion de hiperparametros para el modelo "
   ]
  },
  {
   "cell_type": "code",
   "execution_count": null,
   "id": "7d151c39-f2b9-4a19-8631-b845a710fdd0",
   "metadata": {},
   "outputs": [],
   "source": [
    "xgb_model = xgb.XGBRegressor(\n",
    "    objective='reg:squarederror', # Función objetivo para regresión\n",
    "    n_estimators=100,             # Número de árboles de decisión a construir\n",
    "    learning_rate=0.1,            # Tasa de aprendizaje\n",
    "    max_depth=5,                  # Profundidad máxima de cada árbol\n",
    "    random_state=42               # Para reproducibilidad\n",
    ")\n",
    "print(\"\\nEntrenando el modelo XGBoost...\")\n",
    "xgb_model.fit(X_train, y_train)\n",
    "print(\"Modelo XGBoost entrenado.\")\n",
    "##### Prediccion del modelo ######\n",
    "predictions = xgb_model.predict(X_test)"
   ]
  }
 ],
 "metadata": {
  "kernelspec": {
   "display_name": "Python 3 (ipykernel)",
   "language": "python",
   "name": "python3"
  },
  "language_info": {
   "codemirror_mode": {
    "name": "ipython",
    "version": 3
   },
   "file_extension": ".py",
   "mimetype": "text/x-python",
   "name": "python",
   "nbconvert_exporter": "python",
   "pygments_lexer": "ipython3",
   "version": "3.10.9"
  }
 },
 "nbformat": 4,
 "nbformat_minor": 5
}
